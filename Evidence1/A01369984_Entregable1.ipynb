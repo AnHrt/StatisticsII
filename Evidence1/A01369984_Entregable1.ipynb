{
  "cells": [
    {
      "cell_type": "markdown",
      "metadata": {
        "id": "KDPe05I91Orp"
      },
      "source": [
        "## Procesamiento de datos multivariados\n",
        "\n",
        "> **María de los Angeles Arista Huerta - A01369984**\n",
        "\n",
        "Entregable 1 - Portafolio de implementación / *NOVIEMBRE 2022*"
      ]
    },
    {
      "cell_type": "code",
      "execution_count": 21,
      "metadata": {
        "colab": {
          "base_uri": "https://localhost:8080/"
        },
        "id": "wS0EmcYK1a97",
        "outputId": "74eb7930-101b-4c6e-daba-33b866d0778f"
      },
      "outputs": [
        {
          "name": "stdout",
          "output_type": "stream",
          "text": [
            "Drive already mounted at /content/drive; to attempt to forcibly remount, call drive.mount(\"/content/drive\", force_remount=True).\n"
          ]
        }
      ],
      "source": [
        "from google.colab import drive\n",
        "drive.mount('/content/drive')"
      ]
    },
    {
      "cell_type": "markdown",
      "metadata": {
        "id": "BKn4U1c01Oru"
      },
      "source": [
        "> Importar librerias"
      ]
    },
    {
      "cell_type": "code",
      "execution_count": 22,
      "metadata": {
        "id": "6GGvQPST1Orv"
      },
      "outputs": [],
      "source": [
        "# Manipulación de los datos\n",
        "import numpy as np\n",
        "import pandas as pd\n",
        "\n",
        "# Visualización de los datos\n",
        "import matplotlib.pyplot as plt\n",
        "\n",
        "# Modelos\n",
        "import statsmodels.api as sm\n",
        "from statsmodels.tsa.stattools import adfuller"
      ]
    },
    {
      "cell_type": "markdown",
      "metadata": {
        "id": "e4vLhn8vu-FY"
      },
      "source": [
        "> Carga del dataset\n"
      ]
    }
  ],
  "metadata": {
    "colab": {
      "provenance": []
    },
    "kernelspec": {
      "display_name": "Python 3.10.8 64-bit (microsoft store)",
      "language": "python",
      "name": "python3"
    },
    "language_info": {
      "name": "python",
      "version": "3.10.8"
    },
    "orig_nbformat": 4,
    "vscode": {
      "interpreter": {
        "hash": "f58006e3a6b3697db5a2671151387509a500f2e72d8fe07fc4154091e95c0813"
      }
    }
  },
  "nbformat": 4,
  "nbformat_minor": 0
}
