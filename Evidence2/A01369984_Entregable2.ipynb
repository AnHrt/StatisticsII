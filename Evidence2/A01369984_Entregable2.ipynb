{
 "cells": [
  {
   "cell_type": "markdown",
   "metadata": {},
   "source": [
    "## Evaluación de un modelo y su aplicación para predicción\n",
    "\n",
    "> **María de los Angeles Arista Huerta - A01369984**\n",
    "\n",
    "Entregable 2 - Portafolio de analisis / *NOVIEMBRE 2022*"
   ]
  },
  {
   "cell_type": "markdown",
   "metadata": {},
   "source": [
    "Importar librerias"
   ]
  },
  {
   "cell_type": "code",
   "execution_count": null,
   "metadata": {},
   "outputs": [],
   "source": [
    "# Manipulación de los datos\n",
    "import numpy as np\n",
    "import pandas as pd\n",
    "\n",
    "# Visualización de los datos\n",
    "import seaborn as sns\n",
    "import matplotlib.pyplot as plt\n",
    "\n",
    "# Modelos\n",
    "#import statsmodels.api as sm\n",
    "#import statsmodels.formula.api as sm\n",
    "#from statsmodels.tsa.stattools import adfuller"
   ]
  },
  {
   "cell_type": "code",
   "execution_count": null,
   "metadata": {},
   "outputs": [],
   "source": [
    "# acceso a directorio\n",
    "%cd \"c:\\Users\\angix\\Downloads\\Estadistica\"\n",
    "#%ls "
   ]
  },
  {
   "cell_type": "code",
   "execution_count": null,
   "metadata": {},
   "outputs": [],
   "source": [
    "#Carga del dataset\n",
    "\n",
    "df = pd.read_csv(\"c:\\\\Users\\\\angix\\\\Downloads\\\\Evidence2\\\\Indicadores.csv\")\n",
    "df"
   ]
  }
 ],
 "metadata": {
  "kernelspec": {
   "display_name": "Python 3.10.8 64-bit (microsoft store)",
   "language": "python",
   "name": "python3"
  },
  "language_info": {
   "name": "python",
   "version": "3.10.8"
  },
  "orig_nbformat": 4,
  "vscode": {
   "interpreter": {
    "hash": "f58006e3a6b3697db5a2671151387509a500f2e72d8fe07fc4154091e95c0813"
   }
  }
 },
 "nbformat": 4,
 "nbformat_minor": 2
}
